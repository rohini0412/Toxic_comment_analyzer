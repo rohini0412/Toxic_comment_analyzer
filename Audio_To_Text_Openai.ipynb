{
  "cells": [
    {
      "cell_type": "markdown",
      "metadata": {
        "id": "1jb9HK2xGMT8"
      },
      "source": [
        "# Audio To Text using OpenAI\n",
        "It does not require GPU access to run this notebook.\n",
        "\n",
        "This notebook is authored by [Anmol Talwar](https://www.linkedin.com/in/anmol-talwar-922061164/) - Founder and Trainer at Talent Catalyst AI\n",
        "\n",
        "Visit the blogs on [Talent Catalyst AI](https://talentcatalystai.com/) to learn more on New Gen Technology."
      ]
    },
    {
      "cell_type": "code",
      "execution_count": 1,
      "metadata": {
        "colab": {
          "base_uri": "https://localhost:8080/"
        },
        "id": "_tgmAyxHB4S1",
        "outputId": "b5d84eef-a536-4ab8-b8f0-ebc6d711e2c3"
      },
      "outputs": [
        {
          "name": "stdout",
          "output_type": "stream",
          "text": [
            "Collecting openai\n",
            "  Downloading openai-1.34.0-py3-none-any.whl (325 kB)\n",
            "\u001b[2K     \u001b[90m━━━━━━━━━━━━━━━━━━━━━━━━━━━━━━━━━━━━━━━━\u001b[0m \u001b[32m325.5/325.5 kB\u001b[0m \u001b[31m6.1 MB/s\u001b[0m eta \u001b[36m0:00:00\u001b[0m\n",
            "\u001b[?25hRequirement already satisfied: anyio<5,>=3.5.0 in /usr/local/lib/python3.10/dist-packages (from openai) (3.7.1)\n",
            "Requirement already satisfied: distro<2,>=1.7.0 in /usr/lib/python3/dist-packages (from openai) (1.7.0)\n",
            "Collecting httpx<1,>=0.23.0 (from openai)\n",
            "  Downloading httpx-0.27.0-py3-none-any.whl (75 kB)\n",
            "\u001b[2K     \u001b[90m━━━━━━━━━━━━━━━━━━━━━━━━━━━━━━━━━━━━━━━━\u001b[0m \u001b[32m75.6/75.6 kB\u001b[0m \u001b[31m7.9 MB/s\u001b[0m eta \u001b[36m0:00:00\u001b[0m\n",
            "\u001b[?25hRequirement already satisfied: pydantic<3,>=1.9.0 in /usr/local/lib/python3.10/dist-packages (from openai) (2.7.3)\n",
            "Requirement already satisfied: sniffio in /usr/local/lib/python3.10/dist-packages (from openai) (1.3.1)\n",
            "Requirement already satisfied: tqdm>4 in /usr/local/lib/python3.10/dist-packages (from openai) (4.66.4)\n",
            "Requirement already satisfied: typing-extensions<5,>=4.7 in /usr/local/lib/python3.10/dist-packages (from openai) (4.12.2)\n",
            "Requirement already satisfied: idna>=2.8 in /usr/local/lib/python3.10/dist-packages (from anyio<5,>=3.5.0->openai) (3.7)\n",
            "Requirement already satisfied: exceptiongroup in /usr/local/lib/python3.10/dist-packages (from anyio<5,>=3.5.0->openai) (1.2.1)\n",
            "Requirement already satisfied: certifi in /usr/local/lib/python3.10/dist-packages (from httpx<1,>=0.23.0->openai) (2024.6.2)\n",
            "Collecting httpcore==1.* (from httpx<1,>=0.23.0->openai)\n",
            "  Downloading httpcore-1.0.5-py3-none-any.whl (77 kB)\n",
            "\u001b[2K     \u001b[90m━━━━━━━━━━━━━━━━━━━━━━━━━━━━━━━━━━━━━━━━\u001b[0m \u001b[32m77.9/77.9 kB\u001b[0m \u001b[31m8.2 MB/s\u001b[0m eta \u001b[36m0:00:00\u001b[0m\n",
            "\u001b[?25hCollecting h11<0.15,>=0.13 (from httpcore==1.*->httpx<1,>=0.23.0->openai)\n",
            "  Downloading h11-0.14.0-py3-none-any.whl (58 kB)\n",
            "\u001b[2K     \u001b[90m━━━━━━━━━━━━━━━━━━━━━━━━━━━━━━━━━━━━━━━━\u001b[0m \u001b[32m58.3/58.3 kB\u001b[0m \u001b[31m6.3 MB/s\u001b[0m eta \u001b[36m0:00:00\u001b[0m\n",
            "\u001b[?25hRequirement already satisfied: annotated-types>=0.4.0 in /usr/local/lib/python3.10/dist-packages (from pydantic<3,>=1.9.0->openai) (0.7.0)\n",
            "Requirement already satisfied: pydantic-core==2.18.4 in /usr/local/lib/python3.10/dist-packages (from pydantic<3,>=1.9.0->openai) (2.18.4)\n",
            "Installing collected packages: h11, httpcore, httpx, openai\n",
            "Successfully installed h11-0.14.0 httpcore-1.0.5 httpx-0.27.0 openai-1.34.0\n"
          ]
        }
      ],
      "source": []
    },
    {
      "cell_type": "code",
      "execution_count": 2,
      "metadata": {
        "id": "sfegT6k4FWz9"
      },
      "outputs": [],
      "source": [
        "from openai import OpenAI"
      ]
    },
    {
      "cell_type": "code",
      "execution_count": 3,
      "metadata": {
        "id": "93fnDE6dFYZI"
      },
      "outputs": [],
      "source": [
        "# initialize the OpenAI API client\n",
        "api_key = \"OPEN AI Key\"\n",
        "client = OpenAI(api_key=api_key)"
      ]
    },
    {
      "cell_type": "code",
      "execution_count": 4,
      "metadata": {
        "id": "UWIRhhlQFZwC"
      },
      "outputs": [],
      "source": [
        "path  = \"/content/campaign-call-center.mp3\"\n",
        "audio_file= open(path, \"rb\")"
      ]
    },
    {
      "cell_type": "code",
      "execution_count": 5,
      "metadata": {
        "id": "UREXGlpzGCFj"
      },
      "outputs": [],
      "source": [
        "transcription = client.audio.transcriptions.create(\n",
        "  model=\"whisper-1\",\n",
        "  file=audio_file\n",
        ")"
      ]
    },
    {
      "cell_type": "code",
      "execution_count": 6,
      "metadata": {
        "id": "ACSPhRArGF0i"
      },
      "outputs": [],
      "source": [
        "a = transcription.text"
      ]
    },
    {
      "cell_type": "code",
      "execution_count": 7,
      "metadata": {
        "colab": {
          "base_uri": "https://localhost:8080/",
          "height": 157
        },
        "id": "XM1AI0np9F-I",
        "outputId": "97aca60e-d86b-4cb1-c44c-27f77ae29e4c"
      },
      "outputs": [
        {
          "data": {
            "application/vnd.google.colaboratory.intrinsic+json": {
              "type": "string"
            },
            "text/plain": [
              "\"Hello. Hello. Yes. Hi. My name is Brian Anderson calling you back from Senior Benefits. How are you doing today? Great. How are you? I'm good. I'm good. Thank you so much for asking. Well, we have words with you yesterday, and you asked me to call you back, and the best callback time is morning, and your favorite color is blue, right? Yes. Okay. And your first name is Raven, and your last name is Proctor, right? Yes. Perfect. Perfect. And how old are you? I'll be 79. Oh, great. Great. And what's the year you were born? 1943. Great. Great. God bless you. May you live long with good health and your family as well. You sound pretty young. You must be taking good care of yourself, right? Yeah. Great. Great. Well, actually, this call is about final expense insurance plan that has just been approved in your state, and that is designed to cover 100% of funeral, burial, and cremation expenses. So just to make sure you qualify, I do have Licensed Insurance Agents of Michigan on the line. They will let you know the codes, and they will let you know that how this plan will benefit you and your family, and it doesn't take much longer. So to see what new updated plans are available in your area, may I know what's your zip code? 48223. 48223. Perfect. Got you. Wonderful. And you are in charge of your own decisions, like you make your own decisions, right? Yes. Okay. And one last thing, just for the eligibility purpose, to ensure you receive maximum discounts, I believe you have an active check-in or statement account, right? Yes. Okay. Got you. Okay. That's pretty good all from my side. Let me just quickly bring my license agent on the line for you. So once you hear your next voice, ask them that you are looking for the final expense codes, okay? Just a second. Let me just bring them on the line. Here we go. Just a second. How do you pronounce your first name? Irene. Irene. How do you spell it? I-r-e-n-e. Hello, this is John. It's a pleasure to have you on the call. Can you confirm your first and last name for me? Irene Proctor. Irene Proctor. Awesome. Thank you very much, Irene. And, Irene, what state are you in? Michigan, Detroit. Awesome. How's the weather in Detroit today? Well, it's cloudy. It was supposed to get up in the 40s, but I don't think it made it. Oh, so it's cold and cloudy. Well, hopefully it gets warm out there for you so you're not stuck in the cold all day. I know. Irene, I have heard that you're looking for information on low-cost final expense insurance. Is that correct? Yes. Awesome. I just need to ask you a few questions real quick. Can I get your date of birth, please? 6-7-1943. Great. Perfect. And do you live in a nursing home or assisted living, Irene? No. Okay. And are you in charge of your own financial affairs? Yes. Perfect. And to qualify for the most discounts, do you have an active checking or savings bank account? Yes. And, Irene, my last question for you is, what's your motivation to receive information on final expense? Are you trying to cover funeral expenses? Are you trying to leave behind? What would be your main reason? A little bit of both. Perfect. All right. Irene, you absolutely qualify for the program. So what I'm going to do is grab a licensed individual from Michigan on the line. They'll be able to go over specific plans with you, answer any questions, find the plan that best works for you. Is it okay if I connect you? Yeah. All right. So you may hear some ringing in the background. As soon as they pick up, I'll introduce you and then you'll be on your way, okay? Okay. Hello, this is Al in the final expense department. Who do I have the pleasure of speaking with? Hello, Al. Hi, Irene. How are you?\""
            ]
          },
          "execution_count": 7,
          "metadata": {},
          "output_type": "execute_result"
        }
      ],
      "source": [
        "a"
      ]
    },
    {
      "cell_type": "code",
      "execution_count": 9,
      "metadata": {
        "colab": {
          "base_uri": "https://localhost:8080/"
        },
        "id": "uAs3Mis7GvtW",
        "outputId": "78615880-3791-425e-a6f0-b9cfbd83e00a"
      },
      "outputs": [
        {
          "name": "stdout",
          "output_type": "stream",
          "text": [
            "Text has been saved to: /content/call_center.txt\n"
          ]
        }
      ],
      "source": [
        "# Specify the file path\n",
        "file_path = \"/content/call_center.txt\"\n",
        "\n",
        "# Open the file in write mode ('w')\n",
        "with open(file_path, \"w\") as text_file:\n",
        "    # Write the text to the file\n",
        "    text_file.write(a)\n",
        "\n",
        "print(\"Text has been saved to:\", file_path)"
      ]
    },
    {
      "cell_type": "code",
      "execution_count": null,
      "metadata": {
        "id": "AFED1d4vG-z1"
      },
      "outputs": [],
      "source": []
    }
  ],
  "metadata": {
    "colab": {
      "provenance": []
    },
    "kernelspec": {
      "display_name": "Python 3",
      "name": "python3"
    },
    "language_info": {
      "name": "python"
    }
  },
  "nbformat": 4,
  "nbformat_minor": 0
}
